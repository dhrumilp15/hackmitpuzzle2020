{
 "cells": [
  {
   "cell_type": "code",
   "execution_count": 10,
   "metadata": {},
   "outputs": [],
   "source": [
    "import wave\n",
    "import json\n",
    "from os import listdir, rename"
   ]
  },
  {
   "cell_type": "code",
   "execution_count": 3,
   "metadata": {},
   "outputs": [],
   "source": [
    "words = \"genres trapped recommission letitia sylvain slave website divided according either mirror netflix february reporter censorship sameer subsequent sequence received desperate interviews humanitys milioti jesse emotional quite foster september anthem trippy another developing place referring overtly effect zombiebased imagination avail editing endemol picture reusing opted prime monahan bear cameron piece wright\""
   ]
  },
  {
   "cell_type": "code",
   "execution_count": 23,
   "metadata": {},
   "outputs": [],
   "source": [
    "with open('final.json', 'r') as f:\n",
    "    word_dict = json.load(f)"
   ]
  },
  {
   "cell_type": "code",
   "execution_count": null,
   "metadata": {},
   "outputs": [],
   "source": []
  },
  {
   "cell_type": "code",
   "execution_count": null,
   "metadata": {},
   "outputs": [],
   "source": [
    "dat = []\n",
    "outfile = \"combined.wav\"\n",
    "\n",
    "for word in words.split(\" \"):\n",
    "    num = word_dict[word]\n",
    "    w = wave.open(f\"./info/{num}.wav\", \"rb\")\n",
    "    print(f\"ON {word}: ./info/{num}.wav\")\n",
    "    dat.append([w.getparams(), w.readframes(w.getnframes())])\n",
    "    w.close()\n",
    "\n",
    "output = wave.open(outfile, 'wb')\n",
    "output.setparams(dat[0][0])\n",
    "for seg in dat:\n",
    "    output.writeframes(seg[1])\n",
    "output.close()"
   ]
  },
  {
   "cell_type": "code",
   "execution_count": 27,
   "metadata": {},
   "outputs": [
    {
     "name": "stdout",
     "output_type": "stream",
     "text": [
      "ON genres: ./info/43.wav\n",
      "ON trapped: ./info/26.wav\n",
      "ON recommission: ./info/30.wav\n",
      "ON letitia: ./info/10.wav\n",
      "ON sylvain: ./info/53.wav\n",
      "ON slave: ./info/21.wav\n",
      "ON website: ./info/25.wav\n",
      "ON divided: ./info/17.wav\n",
      "ON according: ./info/8.wav\n",
      "ON either: ./info/42.wav\n",
      "ON mirror: ./info/51.wav\n",
      "ON netflix: ./info/48.wav\n",
      "ON february: ./info/24.wav\n",
      "ON reporter: ./info/12.wav\n",
      "ON censorship: ./info/35.wav\n",
      "ON sameer: ./info/9.wav\n",
      "ON subsequent: ./info/31.wav\n",
      "ON sequence: ./info/27.wav\n",
      "ON received: ./info/28.wav\n",
      "ON desperate: ./info/11.wav\n",
      "ON interviews: ./info/22.wav\n",
      "ON humanitys: ./info/49.wav\n",
      "ON milioti: ./info/46.wav\n",
      "ON jesse: ./info/45.wav\n",
      "ON emotional: ./info/5.wav\n",
      "ON quite: ./info/20.wav\n",
      "ON foster: ./info/13.wav\n",
      "ON september: ./info/40.wav\n",
      "ON anthem: ./info/47.wav\n",
      "ON trippy: ./info/16.wav\n",
      "ON another: ./info/19.wav\n",
      "ON developing: ./info/14.wav\n",
      "ON place: ./info/38.wav\n",
      "ON referring: ./info/6.wav\n",
      "ON overtly: ./info/39.wav\n",
      "ON effect: ./info/37.wav\n",
      "ON zombiebased: ./info/52.wav\n",
      "ON imagination: ./info/41.wav\n",
      "ON avail: ./info/4.wav\n",
      "ON editing: ./info/32.wav\n",
      "ON endemol: ./info/23.wav\n",
      "ON picture: ./info/15.wav\n",
      "ON reusing: ./info/34.wav\n",
      "ON opted: ./info/50.wav\n",
      "ON prime: ./info/7.wav\n",
      "ON monahan: ./info/33.wav\n",
      "ON bear: ./info/36.wav\n",
      "ON cameron: ./info/44.wav\n",
      "ON piece: ./info/29.wav\n",
      "ON wright: ./info/18.wav\n"
     ]
    }
   ],
   "source": [
    "us55"
   ]
  }
 ],
 "metadata": {
  "kernelspec": {
   "display_name": "Python 3.7.5 64-bit ('neurogang': conda)",
   "language": "python",
   "name": "python37564bitneurogangconda9e81ba3b30864883b8dc0d8841eb01c6"
  },
  "language_info": {
   "codemirror_mode": {
    "name": "ipython",
    "version": 3
   },
   "file_extension": ".py",
   "mimetype": "text/x-python",
   "name": "python",
   "nbconvert_exporter": "python",
   "pygments_lexer": "ipython3",
   "version": "3.7.5"
  }
 },
 "nbformat": 4,
 "nbformat_minor": 2
}
